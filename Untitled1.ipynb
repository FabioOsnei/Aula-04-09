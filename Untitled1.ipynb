{
  "nbformat": 4,
  "nbformat_minor": 0,
  "metadata": {
    "colab": {
      "provenance": [],
      "authorship_tag": "ABX9TyPIRNlR3dL/NBhPUq52UYfk",
      "include_colab_link": true
    },
    "kernelspec": {
      "name": "python3",
      "display_name": "Python 3"
    },
    "language_info": {
      "name": "python"
    }
  },
  "cells": [
    {
      "cell_type": "markdown",
      "metadata": {
        "id": "view-in-github",
        "colab_type": "text"
      },
      "source": [
        "<a href=\"https://colab.research.google.com/github/FabioOsnei/Aula-04-09/blob/main/Untitled1.ipynb\" target=\"_parent\"><img src=\"https://colab.research.google.com/assets/colab-badge.svg\" alt=\"Open In Colab\"/></a>"
      ]
    },
    {
      "cell_type": "code",
      "execution_count": null,
      "metadata": {
        "id": "4BDtFJ1wJvUH"
      },
      "outputs": [],
      "source": []
    },
    {
      "cell_type": "markdown",
      "source": [
        "Aula 11/09-Massaki\n"
      ],
      "metadata": {
        "id": "Z3CW-WQKMCcW"
      }
    },
    {
      "cell_type": "code",
      "source": [
        "numero= int(input(\"Digite um número inteiro\"))\n",
        "if numero % 2== 0:\n",
        "  print(f\"O número{numero} é par.\")\n",
        "else:\n",
        "  print(f\"O número{numero} é ímpar.\")"
      ],
      "metadata": {
        "colab": {
          "base_uri": "https://localhost:8080/"
        },
        "id": "3ToTW-t_UziS",
        "outputId": "ef5b55aa-c641-4064-c6dd-69d44b8b1423"
      },
      "execution_count": 5,
      "outputs": [
        {
          "output_type": "stream",
          "name": "stdout",
          "text": [
            "Digite um número inteiro40\n",
            "O número40 é par.\n"
          ]
        }
      ]
    }
  ]
}