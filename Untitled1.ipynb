{
  "nbformat": 4,
  "nbformat_minor": 0,
  "metadata": {
    "colab": {
      "provenance": [],
      "authorship_tag": "ABX9TyPmfvfc2g+ymKO96pupQimA",
      "include_colab_link": true
    },
    "kernelspec": {
      "name": "python3",
      "display_name": "Python 3"
    },
    "language_info": {
      "name": "python"
    }
  },
  "cells": [
    {
      "cell_type": "markdown",
      "metadata": {
        "id": "view-in-github",
        "colab_type": "text"
      },
      "source": [
        "<a href=\"https://colab.research.google.com/github/FabioOsnei/Aula-04-09/blob/main/Untitled1.ipynb\" target=\"_parent\"><img src=\"https://colab.research.google.com/assets/colab-badge.svg\" alt=\"Open In Colab\"/></a>"
      ]
    },
    {
      "cell_type": "code",
      "execution_count": null,
      "metadata": {
        "id": "4BDtFJ1wJvUH"
      },
      "outputs": [],
      "source": []
    },
    {
      "cell_type": "markdown",
      "source": [
        "Aula 11/09-Massaki\n"
      ],
      "metadata": {
        "id": "Z3CW-WQKMCcW"
      }
    },
    {
      "cell_type": "markdown",
      "source": [],
      "metadata": {
        "id": "KSID894HYtxu"
      }
    },
    {
      "cell_type": "code",
      "source": [
        "import math\n",
        "numero = float(input(\"Digite um numero\"))\n",
        "if numero >= 0:\n",
        "  raiz_quadrada = math.sqrt(numero)\n",
        "  print(f\"A raiz quadrada de {numero} é {raiz_quadrada: .2f}.\")\n",
        "else:\n",
        "    print(\"Não existe raiz real para este número!\")"
      ],
      "metadata": {
        "colab": {
          "base_uri": "https://localhost:8080/"
        },
        "id": "yRqHe0VrYvau",
        "outputId": "84cda262-f0af-4ae7-f7a0-b80631ea18a4"
      },
      "execution_count": 13,
      "outputs": [
        {
          "output_type": "stream",
          "name": "stdout",
          "text": [
            "Digite um numero81\n",
            "A raiz quadrada de 81.0 é  9.00.\n"
          ]
        }
      ]
    }
  ]
}