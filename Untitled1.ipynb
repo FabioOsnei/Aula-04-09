{
  "nbformat": 4,
  "nbformat_minor": 0,
  "metadata": {
    "colab": {
      "provenance": [],
      "authorship_tag": "ABX9TyOFUhIamtSmKtBmONNDbpWu",
      "include_colab_link": true
    },
    "kernelspec": {
      "name": "python3",
      "display_name": "Python 3"
    },
    "language_info": {
      "name": "python"
    }
  },
  "cells": [
    {
      "cell_type": "markdown",
      "metadata": {
        "id": "view-in-github",
        "colab_type": "text"
      },
      "source": [
        "<a href=\"https://colab.research.google.com/github/FabioOsnei/Aula-04-09/blob/main/Untitled1.ipynb\" target=\"_parent\"><img src=\"https://colab.research.google.com/assets/colab-badge.svg\" alt=\"Open In Colab\"/></a>"
      ]
    },
    {
      "cell_type": "code",
      "execution_count": null,
      "metadata": {
        "id": "UAZmz2c8W5gf"
      },
      "outputs": [],
      "source": []
    },
    {
      "cell_type": "code",
      "source": [
        "while True:\n",
        "# Pergunta ao usuário se deseja realizar a soma de duas variáveis\n",
        "  resposta = input(\"Deseja realizar a soma de 2 variáveis? (S/N):\").strip().upper()\n",
        "# Se a resposta for 'S', realiza a soma\n",
        "  if resposta == 'S':\n",
        "  # Solicita ao usuário que insira os valores das variáveis\n",
        "   var1 = float(input(\"Digite o valor da primeira variável: \"))\n",
        "   var2 = float(input(\"Digite o valor da segunda variável: \"))\n",
        "  # Realiza a soma das variáveis\n",
        "   soma = var1 + var2\n",
        "  # Exibe o resultado da soma\n",
        "   print(f\"A soma de {var1} e {var2} é : {soma:.2f}\\n\")\n",
        "  # Se a resposta for 'N', termina o loop\n",
        "  elif resposta == 'N':\n",
        "    print(\"Operação finalizada.\")\n",
        "    break\n",
        "    # Caso o usuário insira uma resposta inválida, solicita novamente\n",
        "  else:\n",
        "      print(\"Resposta inválida! Por favor, digite 'S' para Sim ou 'N' para Não.\\n\")"
      ],
      "metadata": {
        "colab": {
          "base_uri": "https://localhost:8080/"
        },
        "id": "a-0rIj0Wb6kh",
        "outputId": "40ef0666-f9fc-44db-ab85-17f8f2dbd36f"
      },
      "execution_count": 11,
      "outputs": [
        {
          "output_type": "stream",
          "name": "stdout",
          "text": [
            "Deseja realizar a soma de 2 variáveis? (S/N):s\n",
            "Digite o valor da primeira variável: 5\n",
            "Digite o valor da segunda variável: 32\n",
            "A soma de 5.0 e 32.0 é : 37.00\n",
            "\n",
            "Deseja realizar a soma de 2 variáveis? (S/N):s\n",
            "Digite o valor da primeira variável: 179452135678756\n",
            "Digite o valor da segunda variável: 546789746596\n",
            "A soma de 179452135678756.0 e 546789746596.0 é : 179998925425352.00\n",
            "\n",
            "Deseja realizar a soma de 2 variáveis? (S/N):n\n",
            "Operação finalizada.\n"
          ]
        }
      ]
    }
  ]
}