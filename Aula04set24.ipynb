{
  "nbformat": 4,
  "nbformat_minor": 0,
  "metadata": {
    "colab": {
      "provenance": [],
      "authorship_tag": "ABX9TyPijQlHVL/sd/4J8wD7/DQ8",
      "include_colab_link": true
    },
    "kernelspec": {
      "name": "python3",
      "display_name": "Python 3"
    },
    "language_info": {
      "name": "python"
    }
  },
  "cells": [
    {
      "cell_type": "markdown",
      "metadata": {
        "id": "view-in-github",
        "colab_type": "text"
      },
      "source": [
        "<a href=\"https://colab.research.google.com/github/FabioOsnei/Aula-04-09/blob/main/Aula04set24.ipynb\" target=\"_parent\"><img src=\"https://colab.research.google.com/assets/colab-badge.svg\" alt=\"Open In Colab\"/></a>"
      ]
    },
    {
      "cell_type": "markdown",
      "source": [],
      "metadata": {
        "id": "uibl2W7QKuQZ"
      }
    },
    {
      "cell_type": "markdown",
      "source": [
        "#Ex.05 - Aula LP02 04/09/2024"
      ],
      "metadata": {
        "id": "rupQKK0CKwlh"
      }
    },
    {
      "cell_type": "code",
      "source": [
        "from math import pi\n",
        "raio = float(input(\"Digite raio\"))\n",
        "v = (4/3)*pi*(raio**3)\n",
        "print(\"Volume da esfera = \",v)\n",
        "\n"
      ],
      "metadata": {
        "colab": {
          "base_uri": "https://localhost:8080/"
        },
        "id": "5b6M_0gHP0jd",
        "outputId": "e461dd48-a6c0-43c1-d99c-6fb37c90d7dc"
      },
      "execution_count": 11,
      "outputs": [
        {
          "output_type": "stream",
          "name": "stdout",
          "text": [
            "Digite raio3\n",
            "Volume da esfera =  113.09733552923254\n"
          ]
        }
      ]
    },
    {
      "cell_type": "code",
      "source": [
        "import math\n",
        "graus = float(input(\"Digite o angulo em graus\"))\n",
        "radianos = graus*(math.pi/180)\n",
        "print(f\"O angulo de {graus} graus é igual a {radianos:.4f}radianos.\")\n"
      ],
      "metadata": {
        "colab": {
          "base_uri": "https://localhost:8080/"
        },
        "id": "PykmkxxZWnbL",
        "outputId": "a541425d-483d-4c42-a49a-babb60d769eb"
      },
      "execution_count": 13,
      "outputs": [
        {
          "output_type": "stream",
          "name": "stdout",
          "text": [
            "Digite o angulo em graus45\n",
            "O angulo de 45.0 graus é igual a 0.7854radianos.\n"
          ]
        }
      ]
    }
  ]
}